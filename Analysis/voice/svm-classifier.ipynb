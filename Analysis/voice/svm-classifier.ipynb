{
 "cells": [
  {
   "cell_type": "markdown",
   "metadata": {},
   "source": [
    "# 用SVM对特征进行分类\n",
    "2019年02月27日"
   ]
  },
  {
   "cell_type": "code",
   "execution_count": 1,
   "metadata": {},
   "outputs": [],
   "source": [
    "import sklearn\n",
    "import numpy as np\n",
    "from sklearn.svm import SVC\n",
    "from sklearn.model_selection import train_test_split\n",
    "import os\n",
    "import os.path as path\n",
    "import pickle\n",
    "from tqdm import tqdm as progress\n",
    "import random"
   ]
  },
  {
   "cell_type": "markdown",
   "metadata": {},
   "source": [
    "## Some Constants"
   ]
  },
  {
   "cell_type": "code",
   "execution_count": 2,
   "metadata": {},
   "outputs": [],
   "source": [
    "FRAME_MS_RATIO = 0.09380235476687636 # frames per milisecond\n",
    "offset = int(2000 * FRAME_MS_RATIO) # offset of subsampling, in frames (2s in this eg.)\n",
    "duration = int(6000 * FRAME_MS_RATIO) # maximun length of subsampling range, in frames\n",
    "unit = int(80 * FRAME_MS_RATIO) # length of a single subsample, in frames\n",
    "stride = unit // 2 # step in frames"
   ]
  },
  {
   "cell_type": "markdown",
   "metadata": {},
   "source": [
    "## Subsampling from `.ftr` Files"
   ]
  },
  {
   "cell_type": "code",
   "execution_count": 3,
   "metadata": {},
   "outputs": [],
   "source": [
    "# IO support\n",
    "def load_from_file(filename):\n",
    "    with open(filename, 'rb') as f:\n",
    "        obj = pickle.load(f)\n",
    "    return obj\n",
    "\n",
    "def save_to_file(obj, filename):\n",
    "    with open(filename, 'wb') as f:\n",
    "        pickle.dump(obj, f)"
   ]
  },
  {
   "cell_type": "code",
   "execution_count": 4,
   "metadata": {},
   "outputs": [],
   "source": [
    "def subsampling(mfcc: object, offset, duration, unit, stride=None):\n",
    "    '''\n",
    "    mfcc: shape like (40, xxx)\n",
    "    return: list of subsamples\n",
    "    '''\n",
    "    if stride is None: stride = unit // 2\n",
    "    subsamples = []\n",
    "    high = offset + duration\n",
    "    left = offset\n",
    "    right = left + unit\n",
    "    while right <= high:\n",
    "        subsamples.append(mfcc[:, left : right])\n",
    "        left += stride\n",
    "        right += stride\n",
    "    return subsamples"
   ]
  },
  {
   "cell_type": "code",
   "execution_count": 5,
   "metadata": {},
   "outputs": [],
   "source": [
    "def suffix_filter(files, suffix):\n",
    "    '''\n",
    "    return list of files with given suffix\n",
    "    '''\n",
    "    return filter(lambda x: x.endswith(suffix), files)\n",
    "\n",
    "def scan_dir(file_dir, label):\n",
    "    '''\n",
    "    scan .ftr files in file_dir and return (samples, labels)\n",
    "    labels are copies of label\n",
    "    '''\n",
    "    samples = []\n",
    "    labels = []\n",
    "    old_path = os.getcwd()\n",
    "    os.chdir(file_dir)\n",
    "    \n",
    "    files = suffix_filter(os.listdir(), '.ftr')\n",
    "    for filename in progress(files):\n",
    "        mfcc = load_from_file(filename)\n",
    "        subs = subsampling(mfcc, offset, duration, unit, stride)\n",
    "        samples += subs\n",
    "        labels += [label for _ in subs]\n",
    "    \n",
    "    os.chdir(old_path)\n",
    "    return samples, labels"
   ]
  },
  {
   "cell_type": "code",
   "execution_count": 6,
   "metadata": {},
   "outputs": [
    {
     "data": {
      "text/plain": [
       "['Positive', '.DS_Store', 'Negative', '.ipynb_checkpoints', 'origin']"
      ]
     },
     "execution_count": 6,
     "metadata": {},
     "output_type": "execute_result"
    }
   ],
   "source": [
    "os.chdir('../Data/Sounds/yzc/')\n",
    "os.listdir()"
   ]
  },
  {
   "cell_type": "code",
   "execution_count": 7,
   "metadata": {},
   "outputs": [
    {
     "name": "stderr",
     "output_type": "stream",
     "text": [
      "36it [00:00, 862.71it/s]\n",
      "36it [00:00, 749.63it/s]\n"
     ]
    }
   ],
   "source": [
    "p_samples, p_labels = scan_dir('Positive/', '+')\n",
    "n_samples, n_labels = scan_dir('Negative/', '-')"
   ]
  },
  {
   "cell_type": "code",
   "execution_count": 8,
   "metadata": {},
   "outputs": [
    {
     "name": "stdout",
     "output_type": "stream",
     "text": [
      "(6696, 40, 7)\n",
      "(6696,)\n"
     ]
    }
   ],
   "source": [
    "print(np.array(p_samples).shape)\n",
    "print(np.array(p_labels).shape)"
   ]
  },
  {
   "cell_type": "code",
   "execution_count": 9,
   "metadata": {},
   "outputs": [],
   "source": [
    "samples = p_samples + n_samples # dataset\n",
    "labels = p_labels + n_labels"
   ]
  },
  {
   "cell_type": "markdown",
   "metadata": {},
   "source": [
    "## Flatten Features"
   ]
  },
  {
   "cell_type": "code",
   "execution_count": 10,
   "metadata": {},
   "outputs": [
    {
     "data": {
      "text/plain": [
       "(13392, 280)"
      ]
     },
     "execution_count": 10,
     "metadata": {},
     "output_type": "execute_result"
    }
   ],
   "source": [
    "flattened_samples = [sample.flatten() for sample in samples]\n",
    "np.array(flattened_samples).shape"
   ]
  },
  {
   "cell_type": "code",
   "execution_count": 11,
   "metadata": {},
   "outputs": [],
   "source": [
    "X_train1, X_test1, Y_train1, Y_test1 = train_test_split(flattened_samples, labels, shuffle=True, test_size=0.1)"
   ]
  },
  {
   "cell_type": "code",
   "execution_count": 12,
   "metadata": {},
   "outputs": [
    {
     "name": "stdout",
     "output_type": "stream",
     "text": [
      "12052\n",
      "1340\n"
     ]
    }
   ],
   "source": [
    "print(len(X_train1))\n",
    "print(len(X_test1))"
   ]
  },
  {
   "cell_type": "code",
   "execution_count": 13,
   "metadata": {},
   "outputs": [
    {
     "name": "stdout",
     "output_type": "stream",
     "text": [
      "train score: 0.9756057085960836\n",
      "test  score: 0.9455223880597015\n"
     ]
    }
   ],
   "source": [
    "clf = SVC(kernel='rbf', gamma=3e-5)\n",
    "clf.fit(X_train1, Y_train1)\n",
    "print('train score:', clf.score(X_train1, Y_train1))\n",
    "print('test  score:', clf.score(X_test1, Y_test1))"
   ]
  },
  {
   "cell_type": "markdown",
   "metadata": {},
   "source": [
    "### Save Model"
   ]
  },
  {
   "cell_type": "code",
   "execution_count": 14,
   "metadata": {},
   "outputs": [],
   "source": [
    "save_to_file(clf, '../../../voice/svm98-94.clf') # (train 98%, test 94% acc) classifier state"
   ]
  },
  {
   "cell_type": "markdown",
   "metadata": {},
   "source": [
    "## Test Batch Generator\n",
    "\n",
    "Generate test batches from a `.ftr` file"
   ]
  },
  {
   "cell_type": "code",
   "execution_count": 15,
   "metadata": {},
   "outputs": [],
   "source": [
    "def get_batches(subsamples, batch_size):\n",
    "    '''\n",
    "    batch-size is suggested to be an odd number\n",
    "    return a list of test-batches from subsamples\n",
    "    '''\n",
    "    batches, batch = [], []\n",
    "    for sample in subsamples:\n",
    "        batch.append(sample)\n",
    "        if len(batch) == batch_size:\n",
    "            batches.append(batch)\n",
    "            batch = []\n",
    "    return batches"
   ]
  },
  {
   "cell_type": "code",
   "execution_count": 16,
   "metadata": {},
   "outputs": [],
   "source": [
    "def scan_dir_batchly(file_dir, batch_size, label):\n",
    "    '''\n",
    "    scan .ftr files in file_dir and return (batches, labels)\n",
    "    labels are copies of label\n",
    "    '''\n",
    "    batches = []\n",
    "    labels = []\n",
    "    old_path = os.getcwd()\n",
    "    os.chdir(file_dir)\n",
    "    \n",
    "    files = suffix_filter(os.listdir(), '.ftr')\n",
    "    for filename in progress(files):\n",
    "        mfcc = load_from_file(filename)\n",
    "        subs = subsampling(mfcc, offset, duration, unit, stride)\n",
    "        new_batches = get_batches(subs, batch_size)\n",
    "        batches += new_batches\n",
    "        labels += [label for _ in new_batches]\n",
    "    \n",
    "    os.chdir(old_path)\n",
    "    return batches, labels"
   ]
  },
  {
   "cell_type": "code",
   "execution_count": 17,
   "metadata": {},
   "outputs": [],
   "source": [
    "def predict_batchly(clf, batch):\n",
    "    '''\n",
    "    predict a class label based on in-batch voting\n",
    "    batch-size is suggested to be an odd number\n",
    "    clf: svm classifier\n",
    "    batch: one batch, shape like (xxx, 40, 7)\n",
    "    '''\n",
    "    flattened_batch = [sample.flatten() for sample in batch] # shape (xxx, 280)\n",
    "    votes = clf.predict(flattened_batch)\n",
    "    p_cnt = len(votes[votes == '+'])\n",
    "    n_cnt = len(votes[votes == '-'])\n",
    "    return '+' if p_cnt > n_cnt else '-'"
   ]
  },
  {
   "cell_type": "markdown",
   "metadata": {},
   "source": [
    "### Let's take a test"
   ]
  },
  {
   "cell_type": "code",
   "execution_count": 18,
   "metadata": {},
   "outputs": [
    {
     "data": {
      "text/plain": [
       "(37, 5, 40, 7)"
      ]
     },
     "execution_count": 18,
     "metadata": {},
     "output_type": "execute_result"
    }
   ],
   "source": [
    "mfcc = load_from_file('Positive/横屏 小声 3.ftr')\n",
    "subsamples = subsampling(mfcc, offset, duration, unit)\n",
    "batches = get_batches(subsamples, 5)\n",
    "np.array(batches).shape"
   ]
  },
  {
   "cell_type": "code",
   "execution_count": 19,
   "metadata": {},
   "outputs": [
    {
     "data": {
      "text/plain": [
       "1.0"
      ]
     },
     "execution_count": 19,
     "metadata": {},
     "output_type": "execute_result"
    }
   ],
   "source": [
    "cnt = 0\n",
    "correct = 0\n",
    "for batch in batches:\n",
    "    cnt += 1\n",
    "    correct += (predict_batchly(clf, batch) == '+')\n",
    "correct / cnt"
   ]
  },
  {
   "cell_type": "markdown",
   "metadata": {},
   "source": [
    "### Define a test function"
   ]
  },
  {
   "cell_type": "code",
   "execution_count": 20,
   "metadata": {},
   "outputs": [],
   "source": [
    "def score_batches(clf, batches, labels):\n",
    "    '''\n",
    "    score a classifier's performance on batches\n",
    "    return: acc (float number)\n",
    "    '''\n",
    "    total, correct = len(batches), 0\n",
    "    for batch, label in zip(batches, labels):\n",
    "        correct += 1 if predict_batchly(clf, batch) == label else 0\n",
    "    return correct / total"
   ]
  },
  {
   "cell_type": "markdown",
   "metadata": {},
   "source": [
    "## Scoring Performance Batchly"
   ]
  },
  {
   "cell_type": "code",
   "execution_count": 21,
   "metadata": {},
   "outputs": [],
   "source": [
    "def shuffle2(list1, list2, seed=8234):\n",
    "    assert len(list1) == len(list2)\n",
    "    random.seed(seed)\n",
    "    random.shuffle(list1)\n",
    "    random.seed(seed)\n",
    "    random.shuffle(list2)"
   ]
  },
  {
   "cell_type": "code",
   "execution_count": 22,
   "metadata": {},
   "outputs": [
    {
     "name": "stderr",
     "output_type": "stream",
     "text": [
      "36it [00:00, 792.64it/s]\n",
      "36it [00:00, 551.35it/s]\n"
     ]
    }
   ],
   "source": [
    "# load in batches\n",
    "\n",
    "batch_size = 5 # adjustable\n",
    "p_batches, p_labels = scan_dir_batchly('Positive/', batch_size, '+')\n",
    "n_batches, n_labels = scan_dir_batchly('Negative/', batch_size, '-')\n",
    "batches, labels = p_batches + n_batches, p_labels + n_labels\n",
    "shuffle2(batches, labels, seed=1)"
   ]
  },
  {
   "cell_type": "code",
   "execution_count": 23,
   "metadata": {},
   "outputs": [
    {
     "data": {
      "text/plain": [
       "(2664, 5, 40, 7)"
      ]
     },
     "execution_count": 23,
     "metadata": {},
     "output_type": "execute_result"
    }
   ],
   "source": [
    "np.array(batches).shape"
   ]
  },
  {
   "cell_type": "code",
   "execution_count": 24,
   "metadata": {},
   "outputs": [
    {
     "data": {
      "text/plain": [
       "0.9868618618618619"
      ]
     },
     "execution_count": 24,
     "metadata": {},
     "output_type": "execute_result"
    }
   ],
   "source": [
    "score_batches(clf, batches, labels)"
   ]
  },
  {
   "cell_type": "markdown",
   "metadata": {},
   "source": [
    "## Transfer Learning Performance\n",
    "\n",
    "on Fengshi Zheng dataset"
   ]
  },
  {
   "cell_type": "code",
   "execution_count": 25,
   "metadata": {},
   "outputs": [
    {
     "name": "stderr",
     "output_type": "stream",
     "text": [
      "35it [00:00, 767.04it/s]\n",
      "35it [00:00, 778.52it/s]\n"
     ]
    },
    {
     "data": {
      "text/plain": [
       "'/Users/james/MobileProximateSpeech/Analysis/Data/Sounds/yzc'"
      ]
     },
     "execution_count": 25,
     "metadata": {},
     "output_type": "execute_result"
    }
   ],
   "source": [
    "# load in Fengshi's batches\n",
    "os.chdir('../MP3/')\n",
    "os.getcwd()\n",
    "\n",
    "batch_size = 5 # adjustable\n",
    "p_batches2, p_labels2 = scan_dir_batchly('Positive/', batch_size, '+')\n",
    "n_batches2, n_labels2 = scan_dir_batchly('Negative/', batch_size, '-')\n",
    "batches2, labels2 = p_batches2 + n_batches2, p_labels2 + n_labels2\n",
    "shuffle2(batches2, labels2, seed=123)\n",
    "\n",
    "os.chdir('../yzc/')\n",
    "os.getcwd()"
   ]
  },
  {
   "cell_type": "code",
   "execution_count": 26,
   "metadata": {},
   "outputs": [
    {
     "data": {
      "text/plain": [
       "(2590, 5, 40, 7)"
      ]
     },
     "execution_count": 26,
     "metadata": {},
     "output_type": "execute_result"
    }
   ],
   "source": [
    "np.array(batches2).shape"
   ]
  },
  {
   "cell_type": "code",
   "execution_count": 27,
   "metadata": {},
   "outputs": [
    {
     "data": {
      "text/plain": [
       "0.6482625482625483"
      ]
     },
     "execution_count": 27,
     "metadata": {},
     "output_type": "execute_result"
    }
   ],
   "source": [
    "score_batches(clf, batches2, labels2)"
   ]
  },
  {
   "cell_type": "markdown",
   "metadata": {},
   "source": [
    "## Train without overfitting"
   ]
  },
  {
   "cell_type": "code",
   "execution_count": 43,
   "metadata": {},
   "outputs": [
    {
     "name": "stdout",
     "output_type": "stream",
     "text": [
      "yzc train score:      0.7303352140723531\n",
      "yzc batch test score: 0.75\n",
      "zfs batch test score: 0.7193050193050193\n"
     ]
    }
   ],
   "source": [
    "clf2 = SVC(kernel='rbf', gamma=1e-8, C=1.0)\n",
    "clf2.fit(X_train1, Y_train1)\n",
    "print('yzc train score:     ', clf2.score(X_train1, Y_train1))\n",
    "print('yzc batch test score:', score_batches(clf2, batches[:100], labels[:100]))\n",
    "print('zfs batch test score:', score_batches(clf2, batches2, labels2))"
   ]
  },
  {
   "cell_type": "code",
   "execution_count": 208,
   "metadata": {},
   "outputs": [
    {
     "data": {
      "text/plain": [
       "(11988, 280)"
      ]
     },
     "execution_count": 208,
     "metadata": {},
     "output_type": "execute_result"
    }
   ],
   "source": [
    "np.array(X_train1).shape"
   ]
  },
  {
   "cell_type": "markdown",
   "metadata": {},
   "source": [
    "## Todo\n",
    "- 哪些容易被错分？\n",
    "- 一个源音频提供多个.ftr\n",
    "- 50% overlap"
   ]
  },
  {
   "cell_type": "code",
   "execution_count": null,
   "metadata": {},
   "outputs": [],
   "source": []
  }
 ],
 "metadata": {
  "kernelspec": {
   "display_name": "Python 3",
   "language": "python",
   "name": "python3"
  },
  "language_info": {
   "codemirror_mode": {
    "name": "ipython",
    "version": 3
   },
   "file_extension": ".py",
   "mimetype": "text/x-python",
   "name": "python",
   "nbconvert_exporter": "python",
   "pygments_lexer": "ipython3",
   "version": "3.6.8"
  }
 },
 "nbformat": 4,
 "nbformat_minor": 2
}
