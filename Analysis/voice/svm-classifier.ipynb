{
 "cells": [
  {
   "cell_type": "markdown",
   "metadata": {},
   "source": [
    "# 用SVM对特征进行分类\n",
    "2019年02月27日"
   ]
  },
  {
   "cell_type": "code",
   "execution_count": 1,
   "metadata": {},
   "outputs": [],
   "source": [
    "import sklearn\n",
    "import numpy as np\n",
    "from sklearn.svm import SVC\n",
    "from sklearn.model_selection import train_test_split\n",
    "import os\n",
    "import os.path as path\n",
    "import pickle\n",
    "from tqdm import tqdm as progress"
   ]
  },
  {
   "cell_type": "markdown",
   "metadata": {},
   "source": [
    "## 对每个样本抽取时间序列的中间长度为800帧的子序列"
   ]
  },
  {
   "cell_type": "code",
   "execution_count": 2,
   "metadata": {},
   "outputs": [],
   "source": [
    "def select_mid(sample, length=800):\n",
    "    '''\n",
    "    sample - shape like (40, Tx) (Tx ≥ 800)\n",
    "    length - length of selected sequence\n",
    "    \n",
    "    return - selected 800 time frames in the sample, shape like (40, 800)\n",
    "    '''\n",
    "    mid = sample.shape[1] // 2\n",
    "    semi_len = length // 2\n",
    "    return sample[:, mid - semi_len : mid + semi_len]"
   ]
  },
  {
   "cell_type": "code",
   "execution_count": 3,
   "metadata": {},
   "outputs": [
    {
     "data": {
      "text/plain": [
       "['Positive', '.DS_Store', 'Negative', 'origin']"
      ]
     },
     "execution_count": 3,
     "metadata": {},
     "output_type": "execute_result"
    }
   ],
   "source": [
    "os.chdir('../Data/Sounds/yzc/')\n",
    "os.listdir()"
   ]
  },
  {
   "cell_type": "code",
   "execution_count": 4,
   "metadata": {},
   "outputs": [],
   "source": [
    "samples = []\n",
    "labels = []\n",
    "time_len = "
   ]
  },
  {
   "cell_type": "code",
   "execution_count": 5,
   "metadata": {},
   "outputs": [
    {
     "name": "stderr",
     "output_type": "stream",
     "text": [
      "100%|██████████| 73/73 [00:00<00:00, 1994.39it/s]\n"
     ]
    }
   ],
   "source": [
    "os.chdir('Positive/')\n",
    "for filename in progress(os.listdir()):\n",
    "    if filename.endswith('.ftr'):\n",
    "        with open(filename, 'rb') as f:\n",
    "            sample = pickle.load(f)\n",
    "        sample = select_mid(sample, time_len)\n",
    "        samples.append(sample)\n",
    "        labels.append('+')\n",
    "        \n",
    "os.chdir('../Negative/')\n",
    "for filename in progress(os.listdir()):\n",
    "    if filename.endswith('.ftr'):\n",
    "        with open(filename, 'rb') as f:\n",
    "            sample = pickle.load(f)\n",
    "        sample = select_mid(sample, time_len)\n",
    "        samples.append(sample)\n",
    "        labels.append('-')"
   ]
  },
  {
   "cell_type": "markdown",
   "metadata": {},
   "source": [
    "## 扁平化特征分类法"
   ]
  },
  {
   "cell_type": "code",
   "execution_count": 8,
   "metadata": {},
   "outputs": [],
   "source": [
    "# flatten features\n",
    "flatten_samlpes = [sample.flatten() for sample in samples]"
   ]
  },
  {
   "cell_type": "code",
   "execution_count": 10,
   "metadata": {},
   "outputs": [],
   "source": [
    "X_train1, X_test1, Y_train1, Y_test1 = train_test_split(flatten_samlpes, labels, shuffle=True, test_size=0.2)"
   ]
  },
  {
   "cell_type": "code",
   "execution_count": 11,
   "metadata": {},
   "outputs": [
    {
     "data": {
      "text/plain": [
       "0.8947368421052632"
      ]
     },
     "execution_count": 11,
     "metadata": {},
     "output_type": "execute_result"
    }
   ],
   "source": [
    "clf1 = SVC(kernel='rbf', gamma=1e-8)\n",
    "clf1.fit(X_train1, Y_train1)\n",
    "clf1.score(X_train1, Y_train1)"
   ]
  },
  {
   "cell_type": "code",
   "execution_count": 12,
   "metadata": {},
   "outputs": [
    {
     "data": {
      "text/plain": [
       "0.9333333333333333"
      ]
     },
     "execution_count": 12,
     "metadata": {},
     "output_type": "execute_result"
    }
   ],
   "source": [
    "clf1.score(X_test1, Y_test1)"
   ]
  },
  {
   "cell_type": "code",
   "execution_count": 13,
   "metadata": {},
   "outputs": [
    {
     "data": {
      "text/plain": [
       "57"
      ]
     },
     "execution_count": 13,
     "metadata": {},
     "output_type": "execute_result"
    }
   ],
   "source": [
    "len(X_train1)"
   ]
  },
  {
   "cell_type": "code",
   "execution_count": 14,
   "metadata": {},
   "outputs": [
    {
     "data": {
      "text/plain": [
       "15"
      ]
     },
     "execution_count": 14,
     "metadata": {},
     "output_type": "execute_result"
    }
   ],
   "source": [
    "len(X_test1)"
   ]
  },
  {
   "cell_type": "code",
   "execution_count": 12,
   "metadata": {},
   "outputs": [],
   "source": [
    "os.chdir('../../../../voice/')"
   ]
  },
  {
   "cell_type": "markdown",
   "metadata": {},
   "source": [
    "### 保存模型"
   ]
  },
  {
   "cell_type": "code",
   "execution_count": 13,
   "metadata": {},
   "outputs": [],
   "source": [
    "with open('flatten-svc.obj', 'wb') as f:\n",
    "    pickle.dump(clf1, f)"
   ]
  },
  {
   "cell_type": "markdown",
   "metadata": {},
   "source": [
    "## 对每一帧打分，加权投票法"
   ]
  },
  {
   "cell_type": "code",
   "execution_count": 16,
   "metadata": {},
   "outputs": [],
   "source": [
    "# average features\n",
    "avg_samples = [sample.mean(axis=1) for sample in samples]"
   ]
  },
  {
   "cell_type": "code",
   "execution_count": 59,
   "metadata": {},
   "outputs": [],
   "source": [
    "X_train2, X_test2, Y_train2, Y_test2 = train_test_split(avg_samples, labels, shuffle=True, test_size=0.2)"
   ]
  },
  {
   "cell_type": "code",
   "execution_count": 62,
   "metadata": {},
   "outputs": [
    {
     "data": {
      "text/plain": [
       "0.9824561403508771"
      ]
     },
     "execution_count": 62,
     "metadata": {},
     "output_type": "execute_result"
    }
   ],
   "source": [
    "clf2 = SVC(kernel='rbf', gamma=1e-3)\n",
    "clf2.fit(X_train2, Y_train2)\n",
    "clf2.score(X_train2, Y_train2)"
   ]
  },
  {
   "cell_type": "code",
   "execution_count": 63,
   "metadata": {},
   "outputs": [
    {
     "data": {
      "text/plain": [
       "0.8666666666666667"
      ]
     },
     "execution_count": 63,
     "metadata": {},
     "output_type": "execute_result"
    }
   ],
   "source": [
    "clf2.score(X_test2, Y_test2)"
   ]
  },
  {
   "cell_type": "markdown",
   "metadata": {},
   "source": [
    "### 保存模型"
   ]
  },
  {
   "cell_type": "code",
   "execution_count": 162,
   "metadata": {},
   "outputs": [],
   "source": [
    "with open('average-svc.obj', 'wb') as f:\n",
    "    pickle.dump(clf2, f)"
   ]
  },
  {
   "cell_type": "code",
   "execution_count": null,
   "metadata": {},
   "outputs": [],
   "source": []
  },
  {
   "cell_type": "markdown",
   "metadata": {},
   "source": [
    "### 前两维特征可视化"
   ]
  },
  {
   "cell_type": "code",
   "execution_count": 35,
   "metadata": {},
   "outputs": [],
   "source": [
    "import matplotlib.pyplot as plt"
   ]
  },
  {
   "cell_type": "code",
   "execution_count": 36,
   "metadata": {},
   "outputs": [],
   "source": [
    "class_p, class_n = [], []\n",
    "for sample, label in zip(avg_samples, labels):\n",
    "    if label == '+':\n",
    "        class_p.append(sample)\n",
    "    else:\n",
    "        class_n.append(sample)\n",
    "class_p = np.array(class_p)\n",
    "class_n = np.array(class_n)"
   ]
  },
  {
   "cell_type": "code",
   "execution_count": 37,
   "metadata": {},
   "outputs": [
    {
     "data": {
      "image/png": "[encoded data removed]",
      "text/plain": [
       "<Figure size 432x288 with 1 Axes>"
      ]
     },
     "metadata": {
      "needs_background": "light"
     },
     "output_type": "display_data"
    }
   ],
   "source": [
    "plt.scatter(class_p[:, 0], class_p[:, 1], c='red')\n",
    "plt.scatter(class_n[:, 0], class_n[:, 1], c='blue')\n",
    "plt.show()"
   ]
  },
  {
   "cell_type": "markdown",
   "metadata": {},
   "source": [
    "### PCA主成分可视化"
   ]
  },
  {
   "cell_type": "code",
   "execution_count": 38,
   "metadata": {},
   "outputs": [],
   "source": [
    "from sklearn.decomposition import PCA"
   ]
  },
  {
   "cell_type": "code",
   "execution_count": 39,
   "metadata": {},
   "outputs": [],
   "source": [
    "pca = PCA()\n",
    "X = pca.fit_transform(avg_samples)"
   ]
  },
  {
   "cell_type": "code",
   "execution_count": 40,
   "metadata": {},
   "outputs": [
    {
     "data": {
      "text/plain": [
       "array([7.70733108e-01, 8.51605174e-02, 3.86903810e-02, 3.35206197e-02,\n",
       "       2.23819618e-02, 1.36596630e-02, 5.98939014e-03, 4.70601627e-03,\n",
       "       3.92712527e-03, 3.57415910e-03, 2.72773380e-03, 2.49001875e-03,\n",
       "       1.83062097e-03, 1.60332822e-03, 1.34009570e-03, 1.22919187e-03,\n",
       "       9.90127809e-04, 8.51601442e-04, 6.59718746e-04, 5.77665084e-04,\n",
       "       4.95936870e-04, 4.28801867e-04, 3.82049828e-04, 3.66773266e-04,\n",
       "       3.07604195e-04, 2.46289103e-04, 2.40153027e-04, 1.80523743e-04,\n",
       "       1.65482203e-04, 1.54030777e-04, 1.09111832e-04, 6.91386947e-05,\n",
       "       6.59216912e-05, 6.16042245e-05, 5.01616462e-05, 2.69935548e-05,\n",
       "       6.02102438e-06, 3.54345701e-07, 4.36398483e-09, 4.32689690e-12])"
      ]
     },
     "execution_count": 40,
     "metadata": {},
     "output_type": "execute_result"
    }
   ],
   "source": [
    "pca.explained_variance_ratio_ # PC占比"
   ]
  },
  {
   "cell_type": "code",
   "execution_count": 41,
   "metadata": {},
   "outputs": [],
   "source": [
    "class_p, class_n = [], []\n",
    "for sample, label in zip(X, labels):\n",
    "    if label == '+':\n",
    "        class_p.append(sample)\n",
    "    else:\n",
    "        class_n.append(sample)\n",
    "class_p = np.array(class_p)\n",
    "class_n = np.array(class_n)"
   ]
  },
  {
   "cell_type": "code",
   "execution_count": 42,
   "metadata": {},
   "outputs": [
    {
     "data": {
      "image/png": "[encoded data removed]",
      "text/plain": [
       "<Figure size 432x288 with 1 Axes>"
      ]
     },
     "metadata": {
      "needs_background": "light"
     },
     "output_type": "display_data"
    }
   ],
   "source": [
    "plt.scatter(class_p[:, 0], class_p[:, 1], c='red')\n",
    "plt.scatter(class_n[:, 0], class_n[:, 1], c='blue')\n",
    "plt.show()"
   ]
  },
  {
   "cell_type": "markdown",
   "metadata": {},
   "source": [
    "## Leave One Out"
   ]
  },
  {
   "cell_type": "code",
   "execution_count": 65,
   "metadata": {},
   "outputs": [],
   "source": [
    "os.chdir('../../MP3')"
   ]
  },
  {
   "cell_type": "code",
   "execution_count": 66,
   "metadata": {},
   "outputs": [
    {
     "name": "stderr",
     "output_type": "stream",
     "text": [
      "100%|██████████| 72/72 [00:00<00:00, 1508.11it/s]\n",
      "100%|██████████| 70/70 [00:00<00:00, 1314.26it/s]\n"
     ]
    }
   ],
   "source": [
    "samples_, labels_ = [], []\n",
    "\n",
    "os.chdir('Positive/')\n",
    "for filename in progress(os.listdir()):\n",
    "    if filename.endswith('.ftr'):\n",
    "        with open(filename, 'rb') as f:\n",
    "            sample = pickle.load(f)\n",
    "        sample = select_mid(sample, time_len)\n",
    "        samples_.append(sample)\n",
    "        labels_.append('+')\n",
    "        \n",
    "os.chdir('../Negative/')\n",
    "for filename in progress(os.listdir()):\n",
    "    if filename.endswith('.ftr'):\n",
    "        with open(filename, 'rb') as f:\n",
    "            sample = pickle.load(f)\n",
    "        sample = select_mid(sample, time_len)\n",
    "        samples_.append(sample)\n",
    "        labels_.append('-')"
   ]
  },
  {
   "cell_type": "code",
   "execution_count": 149,
   "metadata": {},
   "outputs": [
    {
     "name": "stdout",
     "output_type": "stream",
     "text": [
      "1.0\n",
      "1.0\n",
      ">> 0.8142857142857143\n"
     ]
    }
   ],
   "source": [
    "X_train2, X_test2, Y_train2, Y_test2 = train_test_split(avg_samples, labels, shuffle=True, test_size=0.1)\n",
    "clf2 = SVC(kernel='linear', gamma=1e-5)\n",
    "clf2.fit(X_train2, Y_train2)\n",
    "print(clf2.score(X_train2, Y_train2))\n",
    "print(clf2.score(X_test2, Y_test2))\n",
    "print('>>', clf2.score(avg_samples_, labels_))"
   ]
  },
  {
   "cell_type": "code",
   "execution_count": 76,
   "metadata": {},
   "outputs": [],
   "source": [
    "# average features\n",
    "avg_samples_ = [sample.mean(axis=1) for sample in samples_]"
   ]
  },
  {
   "cell_type": "code",
   "execution_count": 68,
   "metadata": {},
   "outputs": [
    {
     "data": {
      "text/plain": [
       "0.7714285714285715"
      ]
     },
     "execution_count": 68,
     "metadata": {},
     "output_type": "execute_result"
    }
   ],
   "source": []
  },
  {
   "cell_type": "code",
   "execution_count": 71,
   "metadata": {},
   "outputs": [],
   "source": [
    "# flatten features\n",
    "flatten_samlpes_ = [sample.flatten() for sample in samples_]"
   ]
  },
  {
   "cell_type": "code",
   "execution_count": 73,
   "metadata": {},
   "outputs": [
    {
     "data": {
      "text/plain": [
       "0.8714285714285714"
      ]
     },
     "execution_count": 73,
     "metadata": {},
     "output_type": "execute_result"
    }
   ],
   "source": [
    "clf1.score(flatten_samlpes_, labels_)"
   ]
  },
  {
   "cell_type": "markdown",
   "metadata": {},
   "source": [
    "## Todo\n",
    "- 哪些容易被错分？\n",
    "- 一个源音频提供多个.ftr\n",
    "- 50% overlap"
   ]
  },
  {
   "cell_type": "code",
   "execution_count": null,
   "metadata": {},
   "outputs": [],
   "source": []
  }
 ],
 "metadata": {
  "kernelspec": {
   "display_name": "Python 3",
   "language": "python",
   "name": "python3"
  },
  "language_info": {
   "codemirror_mode": {
    "name": "ipython",
    "version": 3
   },
   "file_extension": ".py",
   "mimetype": "text/x-python",
   "name": "python",
   "nbconvert_exporter": "python",
   "pygments_lexer": "ipython3",
   "version": "3.6.8"
  }
 },
 "nbformat": 4,
 "nbformat_minor": 2
}
