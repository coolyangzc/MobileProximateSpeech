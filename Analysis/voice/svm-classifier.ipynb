{
 "cells": [
  {
   "cell_type": "markdown",
   "metadata": {},
   "source": [
    "# 用SVM对特征进行分类\n",
    "2019年02月27日"
   ]
  },
  {
   "cell_type": "code",
   "execution_count": 71,
   "metadata": {},
   "outputs": [],
   "source": [
    "import sklearn\n",
    "import numpy as np\n",
    "from sklearn.svm import SVC\n",
    "from sklearn.model_selection import train_test_split\n",
    "import os\n",
    "import os.path as path\n",
    "import pickle\n",
    "from tqdm import tqdm as progress"
   ]
  },
  {
   "cell_type": "markdown",
   "metadata": {},
   "source": [
    "## Some Constants"
   ]
  },
  {
   "cell_type": "code",
   "execution_count": 52,
   "metadata": {},
   "outputs": [],
   "source": [
    "FRAME_MS_RATIO = 0.09380235476687636 # frames per milisecond\n",
    "offset = int(2000 * FRAME_MS_RATIO) # offset of subsampling, in frames (2s in this eg.)\n",
    "duration = int(6000 * FRAME_MS_RATIO) # maximun length of subsampling range, in frames\n",
    "unit = int(80 * FRAME_MS_RATIO) # length of a single subsample, in frames\n",
    "stride = unit // 2 # step in frames"
   ]
  },
  {
   "cell_type": "markdown",
   "metadata": {},
   "source": [
    "## Subsampling from `.ftr` Files"
   ]
  },
  {
   "cell_type": "code",
   "execution_count": 45,
   "metadata": {},
   "outputs": [],
   "source": [
    "def subsampling(mfcc: object, offset, duration, unit, stride=None):\n",
    "    '''\n",
    "    mfcc: shape like (40, xxx)\n",
    "    return: list of subsamples\n",
    "    '''\n",
    "    if stride is None: stride = unit // 2\n",
    "    subsamples = []\n",
    "    high = offset + duration\n",
    "    left = offset\n",
    "    right = left + unit\n",
    "    while right < high:\n",
    "        subsamples.append(mfcc[:, left : right])\n",
    "        left += stride\n",
    "        right += stride\n",
    "    return subsamples"
   ]
  },
  {
   "cell_type": "code",
   "execution_count": 48,
   "metadata": {},
   "outputs": [],
   "source": [
    "def suffix_filter(files, suffix):\n",
    "    '''\n",
    "    return list of files with given suffix\n",
    "    '''\n",
    "    return filter(lambda x: x.endswith(suffix), files)\n",
    "\n",
    "def scan_dir(file_dir, label):\n",
    "    '''\n",
    "    scan .ftr files in file_dir and return (samples, labels)\n",
    "    labels are copies of label\n",
    "    '''\n",
    "    samples = []\n",
    "    labels = []\n",
    "    old_path = os.getcwd()\n",
    "    os.chdir(file_dir)\n",
    "    \n",
    "    files = suffix_filter(os.listdir(), '.ftr')\n",
    "    for filename in progress(files):\n",
    "        with open(filename, 'rb') as f:\n",
    "            mfcc = pickle.load(f)\n",
    "        subs = subsampling(mfcc, offset, duration, unit, stride)\n",
    "        samples += subs\n",
    "        labels += [label for _ in subs]\n",
    "    \n",
    "    os.chdir(old_path)\n",
    "    return samples, labels"
   ]
  },
  {
   "cell_type": "code",
   "execution_count": null,
   "metadata": {},
   "outputs": [],
   "source": [
    "os.chdir('../Data/Sounds/yzc/')\n",
    "os.listdir()"
   ]
  },
  {
   "cell_type": "code",
   "execution_count": 53,
   "metadata": {},
   "outputs": [
    {
     "name": "stderr",
     "output_type": "stream",
     "text": [
      "36it [00:00, 1000.89it/s]\n",
      "36it [00:00, 924.36it/s]\n"
     ]
    }
   ],
   "source": [
    "p_samples, p_labels = scan_dir('Positive/', '+')\n",
    "n_samples, n_labels = scan_dir('Negative/', '-')"
   ]
  },
  {
   "cell_type": "code",
   "execution_count": 56,
   "metadata": {},
   "outputs": [
    {
     "name": "stdout",
     "output_type": "stream",
     "text": [
      "(6660, 40, 7)\n",
      "(6660,)\n"
     ]
    }
   ],
   "source": [
    "print(np.array(p_samples).shape)\n",
    "print(np.array(p_labels).shape)"
   ]
  },
  {
   "cell_type": "code",
   "execution_count": 59,
   "metadata": {},
   "outputs": [],
   "source": [
    "samples = p_samples + n_samples # dataset\n",
    "labels = p_labels + n_labels"
   ]
  },
  {
   "cell_type": "markdown",
   "metadata": {},
   "source": [
    "## Flatten Features"
   ]
  },
  {
   "cell_type": "code",
   "execution_count": 63,
   "metadata": {},
   "outputs": [
    {
     "data": {
      "text/plain": [
       "(13320, 280)"
      ]
     },
     "execution_count": 63,
     "metadata": {},
     "output_type": "execute_result"
    }
   ],
   "source": [
    "flattened_samples = [sample.flatten() for sample in samples]\n",
    "np.array(flattened_samples).shape"
   ]
  },
  {
   "cell_type": "code",
   "execution_count": 64,
   "metadata": {},
   "outputs": [],
   "source": [
    "X_train1, X_test1, Y_train1, Y_test1 = train_test_split(flattened_samples, labels, shuffle=True, test_size=0.1)"
   ]
  },
  {
   "cell_type": "code",
   "execution_count": 70,
   "metadata": {},
   "outputs": [
    {
     "name": "stdout",
     "output_type": "stream",
     "text": [
      "11988\n",
      "1332\n"
     ]
    }
   ],
   "source": [
    "print(len(X_train1))\n",
    "print(len(X_test1))"
   ]
  },
  {
   "cell_type": "code",
   "execution_count": 78,
   "metadata": {},
   "outputs": [
    {
     "name": "stdout",
     "output_type": "stream",
     "text": [
      "train score: 0.9764764764764765\n",
      "test  score: 0.93993993993994\n"
     ]
    }
   ],
   "source": [
    "clf = SVC(kernel='rbf', gamma=3e-5)\n",
    "clf.fit(X_train1, Y_train1)\n",
    "print('train score:', clf.score(X_train1, Y_train1))\n",
    "print('test  score:', clf.score(X_test1, Y_test1))"
   ]
  },
  {
   "cell_type": "markdown",
   "metadata": {},
   "source": [
    "### Save Model"
   ]
  },
  {
   "cell_type": "code",
   "execution_count": 81,
   "metadata": {},
   "outputs": [],
   "source": [
    "with open('../../../voice/svm98-94.clf', 'wb') as f:\n",
    "    pickle.dump(clf, f)"
   ]
  },
  {
   "cell_type": "markdown",
   "metadata": {},
   "source": [
    "### 前两维特征可视化"
   ]
  },
  {
   "cell_type": "code",
   "execution_count": null,
   "metadata": {},
   "outputs": [],
   "source": [
    "import matplotlib.pyplot as plt"
   ]
  },
  {
   "cell_type": "code",
   "execution_count": null,
   "metadata": {},
   "outputs": [],
   "source": [
    "class_p, class_n = [], []\n",
    "for sample, label in zip(avg_samples, labels):\n",
    "    if label == '+':\n",
    "        class_p.append(sample)\n",
    "    else:\n",
    "        class_n.append(sample)\n",
    "class_p = np.array(class_p)\n",
    "class_n = np.array(class_n)"
   ]
  },
  {
   "cell_type": "code",
   "execution_count": null,
   "metadata": {},
   "outputs": [],
   "source": [
    "plt.scatter(class_p[:, 0], class_p[:, 1], c='red')\n",
    "plt.scatter(class_n[:, 0], class_n[:, 1], c='blue')\n",
    "plt.show()"
   ]
  },
  {
   "cell_type": "markdown",
   "metadata": {},
   "source": [
    "### PCA主成分可视化"
   ]
  },
  {
   "cell_type": "code",
   "execution_count": null,
   "metadata": {},
   "outputs": [],
   "source": [
    "from sklearn.decomposition import PCA"
   ]
  },
  {
   "cell_type": "code",
   "execution_count": null,
   "metadata": {},
   "outputs": [],
   "source": [
    "pca = PCA()\n",
    "X = pca.fit_transform(avg_samples)"
   ]
  },
  {
   "cell_type": "code",
   "execution_count": null,
   "metadata": {},
   "outputs": [],
   "source": [
    "pca.explained_variance_ratio_ # PC占比"
   ]
  },
  {
   "cell_type": "code",
   "execution_count": null,
   "metadata": {},
   "outputs": [],
   "source": [
    "class_p, class_n = [], []\n",
    "for sample, label in zip(X, labels):\n",
    "    if label == '+':\n",
    "        class_p.append(sample)\n",
    "    else:\n",
    "        class_n.append(sample)\n",
    "class_p = np.array(class_p)\n",
    "class_n = np.array(class_n)"
   ]
  },
  {
   "cell_type": "code",
   "execution_count": null,
   "metadata": {},
   "outputs": [],
   "source": [
    "plt.scatter(class_p[:, 0], class_p[:, 1], c='red')\n",
    "plt.scatter(class_n[:, 0], class_n[:, 1], c='blue')\n",
    "plt.show()"
   ]
  },
  {
   "cell_type": "markdown",
   "metadata": {},
   "source": [
    "## 迁移学习"
   ]
  },
  {
   "cell_type": "code",
   "execution_count": null,
   "metadata": {},
   "outputs": [],
   "source": [
    "os.chdir('../../MP3')"
   ]
  },
  {
   "cell_type": "code",
   "execution_count": null,
   "metadata": {},
   "outputs": [],
   "source": [
    "samples_, labels_ = [], []\n",
    "\n",
    "os.chdir('Positive/')\n",
    "for filename in progress(os.listdir()):\n",
    "    if filename.endswith('.ftr'):\n",
    "        with open(filename, 'rb') as f:\n",
    "            sample = pickle.load(f)\n",
    "        sample = select_mid(sample, time_len)\n",
    "        samples_.append(sample)\n",
    "        labels_.append('+')\n",
    "        \n",
    "os.chdir('../Negative/')\n",
    "for filename in progress(os.listdir()):\n",
    "    if filename.endswith('.ftr'):\n",
    "        with open(filename, 'rb') as f:\n",
    "            sample = pickle.load(f)\n",
    "        sample = select_mid(sample, time_len)\n",
    "        samples_.append(sample)\n",
    "        labels_.append('-')"
   ]
  },
  {
   "cell_type": "code",
   "execution_count": null,
   "metadata": {},
   "outputs": [],
   "source": [
    "X_train2, X_test2, Y_train2, Y_test2 = train_test_split(avg_samples, labels, shuffle=True, test_size=0.1)\n",
    "clf2 = SVC(kernel='linear', gamma=1e-5)\n",
    "clf2.fit(X_train2, Y_train2)\n",
    "print(clf2.score(X_train2, Y_train2))\n",
    "print(clf2.score(X_test2, Y_test2))\n",
    "print('>>', clf2.score(avg_samples_, labels_))"
   ]
  },
  {
   "cell_type": "code",
   "execution_count": null,
   "metadata": {},
   "outputs": [],
   "source": [
    "# average features\n",
    "avg_samples_ = [sample.mean(axis=1) for sample in samples_]"
   ]
  },
  {
   "cell_type": "code",
   "execution_count": null,
   "metadata": {},
   "outputs": [],
   "source": []
  },
  {
   "cell_type": "code",
   "execution_count": null,
   "metadata": {},
   "outputs": [],
   "source": [
    "# flatten features\n",
    "flatten_samlpes_ = [sample.flatten() for sample in samples_]"
   ]
  },
  {
   "cell_type": "code",
   "execution_count": null,
   "metadata": {},
   "outputs": [],
   "source": [
    "clf1.score(flatten_samlpes_, labels_)"
   ]
  },
  {
   "cell_type": "markdown",
   "metadata": {},
   "source": [
    "## Todo\n",
    "- 哪些容易被错分？\n",
    "- 一个源音频提供多个.ftr\n",
    "- 50% overlap"
   ]
  },
  {
   "cell_type": "code",
   "execution_count": 16,
   "metadata": {},
   "outputs": [
    {
     "name": "stdout",
     "output_type": "stream",
     "text": [
      "[2, 3]\n"
     ]
    }
   ],
   "source": [
    "a = [1, 2, 3]\n",
    "print(list(filter(lambda x: x >= 2, a)))\n",
    "del a"
   ]
  },
  {
   "cell_type": "code",
   "execution_count": null,
   "metadata": {},
   "outputs": [],
   "source": []
  }
 ],
 "metadata": {
  "kernelspec": {
   "display_name": "Python 3",
   "language": "python",
   "name": "python3"
  },
  "language_info": {
   "codemirror_mode": {
    "name": "ipython",
    "version": 3
   },
   "file_extension": ".py",
   "mimetype": "text/x-python",
   "name": "python",
   "nbconvert_exporter": "python",
   "pygments_lexer": "ipython3",
   "version": "3.6.8"
  }
 },
 "nbformat": 4,
 "nbformat_minor": 2
}
