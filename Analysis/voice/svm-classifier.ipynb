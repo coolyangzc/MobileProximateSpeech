{
 "cells": [
  {
   "cell_type": "markdown",
   "metadata": {},
   "source": [
    "# 用SVM对特征进行分类\n",
    "2019年02月27日"
   ]
  },
  {
   "cell_type": "code",
   "execution_count": 71,
   "metadata": {},
   "outputs": [],
   "source": [
    "import sklearn\n",
    "import numpy as np\n",
    "from sklearn.svm import SVC\n",
    "from sklearn.model_selection import train_test_split\n",
    "import os\n",
    "import os.path as path\n",
    "import pickle\n",
    "from tqdm import tqdm as progress"
   ]
  },
  {
   "cell_type": "markdown",
   "metadata": {},
   "source": [
    "## Some Constants"
   ]
  },
  {
   "cell_type": "code",
   "execution_count": 52,
   "metadata": {},
   "outputs": [],
   "source": [
    "FRAME_MS_RATIO = 0.09380235476687636 # frames per milisecond\n",
    "offset = int(2000 * FRAME_MS_RATIO) # offset of subsampling, in frames (2s in this eg.)\n",
    "duration = int(6000 * FRAME_MS_RATIO) # maximun length of subsampling range, in frames\n",
    "unit = int(80 * FRAME_MS_RATIO) # length of a single subsample, in frames\n",
    "stride = unit // 2 # step in frames"
   ]
  },
  {
   "cell_type": "markdown",
   "metadata": {},
   "source": [
    "## Subsampling from `.ftr` Files"
   ]
  },
  {
   "cell_type": "code",
   "execution_count": 86,
   "metadata": {},
   "outputs": [],
   "source": [
    "# IO support\n",
    "def load_from_file(filename):\n",
    "    with open(filename, 'rb') as f:\n",
    "        obj = pickle.load(f)\n",
    "    return obj\n",
    "\n",
    "def save_to_file(obj, filename):\n",
    "    with open(filename, 'wb') as f:\n",
    "        pickle.dump(obj, f)"
   ]
  },
  {
   "cell_type": "code",
   "execution_count": 89,
   "metadata": {},
   "outputs": [],
   "source": [
    "def subsampling(mfcc: object, offset, duration, unit, stride=None):\n",
    "    '''\n",
    "    mfcc: shape like (40, xxx)\n",
    "    return: list of subsamples\n",
    "    '''\n",
    "    if stride is None: stride = unit // 2\n",
    "    subsamples = []\n",
    "    high = offset + duration\n",
    "    left = offset\n",
    "    right = left + unit\n",
    "    while right <= high:\n",
    "        subsamples.append(mfcc[:, left : right])\n",
    "        left += stride\n",
    "        right += stride\n",
    "    return subsamples"
   ]
  },
  {
   "cell_type": "code",
   "execution_count": 87,
   "metadata": {},
   "outputs": [],
   "source": [
    "def suffix_filter(files, suffix):\n",
    "    '''\n",
    "    return list of files with given suffix\n",
    "    '''\n",
    "    return filter(lambda x: x.endswith(suffix), files)\n",
    "\n",
    "def scan_dir(file_dir, label):\n",
    "    '''\n",
    "    scan .ftr files in file_dir and return (samples, labels)\n",
    "    labels are copies of label\n",
    "    '''\n",
    "    samples = []\n",
    "    labels = []\n",
    "    old_path = os.getcwd()\n",
    "    os.chdir(file_dir)\n",
    "    \n",
    "    files = suffix_filter(os.listdir(), '.ftr')\n",
    "    for filename in progress(files):\n",
    "        mfcc = load_from_file(filename)\n",
    "        subs = subsampling(mfcc, offset, duration, unit, stride)\n",
    "        samples += subs\n",
    "        labels += [label for _ in subs]\n",
    "    \n",
    "    os.chdir(old_path)\n",
    "    return samples, labels"
   ]
  },
  {
   "cell_type": "code",
   "execution_count": null,
   "metadata": {},
   "outputs": [],
   "source": [
    "os.chdir('../Data/Sounds/yzc/')\n",
    "os.listdir()"
   ]
  },
  {
   "cell_type": "code",
   "execution_count": 53,
   "metadata": {},
   "outputs": [
    {
     "name": "stderr",
     "output_type": "stream",
     "text": [
      "36it [00:00, 1000.89it/s]\n",
      "36it [00:00, 924.36it/s]\n"
     ]
    }
   ],
   "source": [
    "p_samples, p_labels = scan_dir('Positive/', '+')\n",
    "n_samples, n_labels = scan_dir('Negative/', '-')"
   ]
  },
  {
   "cell_type": "code",
   "execution_count": 56,
   "metadata": {},
   "outputs": [
    {
     "name": "stdout",
     "output_type": "stream",
     "text": [
      "(6660, 40, 7)\n",
      "(6660,)\n"
     ]
    }
   ],
   "source": [
    "print(np.array(p_samples).shape)\n",
    "print(np.array(p_labels).shape)"
   ]
  },
  {
   "cell_type": "code",
   "execution_count": 59,
   "metadata": {},
   "outputs": [],
   "source": [
    "samples = p_samples + n_samples # dataset\n",
    "labels = p_labels + n_labels"
   ]
  },
  {
   "cell_type": "markdown",
   "metadata": {},
   "source": [
    "## Flatten Features"
   ]
  },
  {
   "cell_type": "code",
   "execution_count": 63,
   "metadata": {},
   "outputs": [
    {
     "data": {
      "text/plain": [
       "(13320, 280)"
      ]
     },
     "execution_count": 63,
     "metadata": {},
     "output_type": "execute_result"
    }
   ],
   "source": [
    "flattened_samples = [sample.flatten() for sample in samples]\n",
    "np.array(flattened_samples).shape"
   ]
  },
  {
   "cell_type": "code",
   "execution_count": 64,
   "metadata": {},
   "outputs": [],
   "source": [
    "X_train1, X_test1, Y_train1, Y_test1 = train_test_split(flattened_samples, labels, shuffle=True, test_size=0.1)"
   ]
  },
  {
   "cell_type": "code",
   "execution_count": 70,
   "metadata": {},
   "outputs": [
    {
     "name": "stdout",
     "output_type": "stream",
     "text": [
      "11988\n",
      "1332\n"
     ]
    }
   ],
   "source": [
    "print(len(X_train1))\n",
    "print(len(X_test1))"
   ]
  },
  {
   "cell_type": "code",
   "execution_count": 78,
   "metadata": {},
   "outputs": [
    {
     "name": "stdout",
     "output_type": "stream",
     "text": [
      "train score: 0.9764764764764765\n",
      "test  score: 0.93993993993994\n"
     ]
    }
   ],
   "source": [
    "clf = SVC(kernel='rbf', gamma=3e-5)\n",
    "clf.fit(X_train1, Y_train1)\n",
    "print('train score:', clf.score(X_train1, Y_train1))\n",
    "print('test  score:', clf.score(X_test1, Y_test1))"
   ]
  },
  {
   "cell_type": "markdown",
   "metadata": {},
   "source": [
    "### Save Model"
   ]
  },
  {
   "cell_type": "code",
   "execution_count": 81,
   "metadata": {},
   "outputs": [],
   "source": [
    "with open('../../../voice/svm98-94.clf', 'wb') as f: # (train 98%, test 94% acc) classifier state\n",
    "    pickle.dump(clf, f)"
   ]
  },
  {
   "cell_type": "markdown",
   "metadata": {},
   "source": [
    "## Test Batch Generator\n",
    "\n",
    "Generate test batches from a `.ftr` file"
   ]
  },
  {
   "cell_type": "code",
   "execution_count": 91,
   "metadata": {},
   "outputs": [],
   "source": [
    "def get_batches(subsamples, batch_size):\n",
    "    '''\n",
    "    batch-size is suggested to be an odd number\n",
    "    return a list of test-batches from subsamples\n",
    "    '''\n",
    "    batches, batch = [], []\n",
    "    for sample in subsamples:\n",
    "        batch.append(sample)\n",
    "        if len(batch) == batch_size:\n",
    "            batches.append(batch)\n",
    "            batch = []\n",
    "    return batches"
   ]
  },
  {
   "cell_type": "code",
   "execution_count": 120,
   "metadata": {},
   "outputs": [],
   "source": [
    "def scan_dir_batchly(file_dir, batch_size, label):\n",
    "    '''\n",
    "    scan .ftr files in file_dir and return (batches, labels)\n",
    "    labels are copies of label\n",
    "    '''\n",
    "    batches = []\n",
    "    labels = []\n",
    "    old_path = os.getcwd()\n",
    "    os.chdir(file_dir)\n",
    "    \n",
    "    files = suffix_filter(os.listdir(), '.ftr')\n",
    "    for filename in progress(files):\n",
    "        mfcc = load_from_file(filename)\n",
    "        subs = subsampling(mfcc, offset, duration, unit, stride)\n",
    "        new_batches = get_batches(subs, batch_size)\n",
    "        batches += new_batches\n",
    "        labels += [label for _ in new_batches]\n",
    "    \n",
    "    os.chdir(old_path)\n",
    "    return batches, labels"
   ]
  },
  {
   "cell_type": "code",
   "execution_count": 121,
   "metadata": {},
   "outputs": [],
   "source": [
    "def predict_batchly(clf, batch):\n",
    "    '''\n",
    "    predict a class label based on in-batch voting\n",
    "    batch-size is suggested to be an odd number\n",
    "    clf: svm classifier\n",
    "    batch: one batch, shape like (xxx, 40, 7)\n",
    "    '''\n",
    "    flattened_batch = [sample.flatten() for sample in batch] # shape (xxx, 280)\n",
    "    votes = clf.predict(flattened_batch)\n",
    "    p_cnt = len(votes[votes == '+'])\n",
    "    n_cnt = len(votes[votes == '-'])\n",
    "    return '+' if p_cnt > n_cnt else '-'"
   ]
  },
  {
   "cell_type": "markdown",
   "metadata": {},
   "source": [
    "### Let's take a test"
   ]
  },
  {
   "cell_type": "code",
   "execution_count": 118,
   "metadata": {},
   "outputs": [
    {
     "data": {
      "text/plain": [
       "(37, 5, 40, 7)"
      ]
     },
     "execution_count": 118,
     "metadata": {},
     "output_type": "execute_result"
    }
   ],
   "source": [
    "mfcc = load_from_file('Positive/横屏 小声 3.ftr')\n",
    "subsamples = subsampling(mfcc, offset, duration, unit)\n",
    "batches = get_batches(subsamples, 5)\n",
    "np.array(batches).shape"
   ]
  },
  {
   "cell_type": "code",
   "execution_count": 123,
   "metadata": {},
   "outputs": [
    {
     "data": {
      "text/plain": [
       "1.0"
      ]
     },
     "execution_count": 123,
     "metadata": {},
     "output_type": "execute_result"
    }
   ],
   "source": [
    "cnt = 0\n",
    "correct = 0\n",
    "for batch in batches:\n",
    "    cnt += 1\n",
    "    correct += (predict_batchly(clf, batch) == '+')\n",
    "correct / cnt"
   ]
  },
  {
   "cell_type": "markdown",
   "metadata": {},
   "source": [
    "### Define a test function"
   ]
  },
  {
   "cell_type": "code",
   "execution_count": 124,
   "metadata": {},
   "outputs": [],
   "source": [
    "def score_batches(clf, batches, labels):\n",
    "    '''\n",
    "    score a classifier's performance on batches\n",
    "    return: acc (float number)\n",
    "    '''\n",
    "    total, correct = len(batches), 0\n",
    "    for batch, label in zip(batches, labels):\n",
    "        correct += 1 if predict_batchly(clf, batch) == label else 0\n",
    "    return correct / total"
   ]
  },
  {
   "cell_type": "markdown",
   "metadata": {},
   "source": [
    "## Scoring Performance Batchly"
   ]
  },
  {
   "cell_type": "code",
   "execution_count": 162,
   "metadata": {},
   "outputs": [
    {
     "name": "stderr",
     "output_type": "stream",
     "text": [
      "36it [00:00, 1631.99it/s]\n",
      "36it [00:00, 747.60it/s]\n"
     ]
    }
   ],
   "source": [
    "# load in batches\n",
    "\n",
    "batch_size = 11 # adjustable\n",
    "p_batches, p_labels = scan_dir_batchly('Positive/', batch_size, '+')\n",
    "n_batches, n_labels = scan_dir_batchly('Negative/', batch_size, '-')\n",
    "batches, labels = p_batches + n_batches, p_labels + n_labels"
   ]
  },
  {
   "cell_type": "code",
   "execution_count": 163,
   "metadata": {},
   "outputs": [
    {
     "data": {
      "text/plain": [
       "(1152, 11, 40, 7)"
      ]
     },
     "execution_count": 163,
     "metadata": {},
     "output_type": "execute_result"
    }
   ],
   "source": [
    "np.array(batches).shape"
   ]
  },
  {
   "cell_type": "code",
   "execution_count": 164,
   "metadata": {},
   "outputs": [
    {
     "data": {
      "text/plain": [
       "0.9939236111111112"
      ]
     },
     "execution_count": 164,
     "metadata": {},
     "output_type": "execute_result"
    }
   ],
   "source": [
    "score_batches(clf, batches, labels)"
   ]
  },
  {
   "cell_type": "markdown",
   "metadata": {},
   "source": [
    "## Transfer Learning Performance\n",
    "\n",
    "on Fengshi Zheng dataset"
   ]
  },
  {
   "cell_type": "code",
   "execution_count": 131,
   "metadata": {},
   "outputs": [
    {
     "data": {
      "text/plain": [
       "'/Users/james/MobileProximateSpeech/Analysis/Data/Sounds/MP3'"
      ]
     },
     "execution_count": 131,
     "metadata": {},
     "output_type": "execute_result"
    }
   ],
   "source": [
    "os.chdir('../MP3/')\n",
    "os.getcwd()"
   ]
  },
  {
   "cell_type": "code",
   "execution_count": 139,
   "metadata": {},
   "outputs": [
    {
     "name": "stderr",
     "output_type": "stream",
     "text": [
      "35it [00:00, 799.73it/s]\n",
      "35it [00:00, 966.95it/s]\n"
     ]
    }
   ],
   "source": [
    "# load in Fengshi's batches\n",
    "\n",
    "batch_size = 1 # adjustable\n",
    "p_batches, p_labels = scan_dir_batchly('Positive/', batch_size, '+')\n",
    "n_batches, n_labels = scan_dir_batchly('Negative/', batch_size, '-')\n",
    "batches, labels = p_batches + n_batches, p_labels + n_labels"
   ]
  },
  {
   "cell_type": "code",
   "execution_count": 141,
   "metadata": {},
   "outputs": [
    {
     "data": {
      "text/plain": [
       "(13020, 1, 40, 7)"
      ]
     },
     "execution_count": 141,
     "metadata": {},
     "output_type": "execute_result"
    }
   ],
   "source": [
    "np.array(batches).shape"
   ]
  },
  {
   "cell_type": "code",
   "execution_count": 140,
   "metadata": {},
   "outputs": [
    {
     "data": {
      "text/plain": [
       "0.6459293394777266"
      ]
     },
     "execution_count": 140,
     "metadata": {},
     "output_type": "execute_result"
    }
   ],
   "source": [
    "score_batches(clf, batches, labels)"
   ]
  },
  {
   "cell_type": "code",
   "execution_count": 150,
   "metadata": {},
   "outputs": [
    {
     "data": {
      "text/plain": [
       "'/Users/james/MobileProximateSpeech/Analysis/Data/Sounds/yzc'"
      ]
     },
     "execution_count": 150,
     "metadata": {},
     "output_type": "execute_result"
    }
   ],
   "source": [
    "os.chdir('../yzc/')\n",
    "os.getcwd()"
   ]
  },
  {
   "cell_type": "markdown",
   "metadata": {},
   "source": [
    "## Todo\n",
    "- 哪些容易被错分？\n",
    "- 一个源音频提供多个.ftr\n",
    "- 50% overlap"
   ]
  },
  {
   "cell_type": "code",
   "execution_count": null,
   "metadata": {},
   "outputs": [],
   "source": []
  }
 ],
 "metadata": {
  "kernelspec": {
   "display_name": "Python 3",
   "language": "python",
   "name": "python3"
  },
  "language_info": {
   "codemirror_mode": {
    "name": "ipython",
    "version": 3
   },
   "file_extension": ".py",
   "mimetype": "text/x-python",
   "name": "python",
   "nbconvert_exporter": "python",
   "pygments_lexer": "ipython3",
   "version": "3.6.8"
  }
 },
 "nbformat": 4,
 "nbformat_minor": 2
}
