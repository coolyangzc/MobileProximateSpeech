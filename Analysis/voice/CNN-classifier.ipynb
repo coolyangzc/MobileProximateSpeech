{
 "cells": [
  {
   "cell_type": "markdown",
   "metadata": {},
   "source": [
    "# 使用单次卷积加全连接层的方法分类"
   ]
  },
  {
   "cell_type": "code",
   "execution_count": 1,
   "metadata": {},
   "outputs": [
    {
     "name": "stderr",
     "output_type": "stream",
     "text": [
      "Using TensorFlow backend.\n"
     ]
    }
   ],
   "source": [
    "from keras import Sequential\n",
    "from keras import utils\n",
    "from keras import layers\n",
    "from keras import models\n",
    "from keras import optimizers\n",
    "from keras import preprocessing\n",
    "\n",
    "import numpy as np\n",
    "import os\n",
    "import sys"
   ]
  },
  {
   "cell_type": "code",
   "execution_count": 2,
   "metadata": {},
   "outputs": [],
   "source": [
    "os.chdir('/Users/james/MobileProximateSpeech/Analysis/')"
   ]
  },
  {
   "cell_type": "code",
   "execution_count": 5,
   "metadata": {},
   "outputs": [],
   "source": [
    "from utils.voice_data_loader import load_ftr_from_dir, train_test_split, DataPack, show_shape"
   ]
  },
  {
   "cell_type": "code",
   "execution_count": 70,
   "metadata": {},
   "outputs": [
    {
     "name": "stdout",
     "output_type": "stream",
     "text": [
      "loading from Data/Sounds/yzc/...\n",
      "shuffled.\n",
      "loaded.\n"
     ]
    },
    {
     "data": {
      "text/plain": [
       "72"
      ]
     },
     "execution_count": 70,
     "metadata": {},
     "output_type": "execute_result"
    }
   ],
   "source": [
    "ftr_files, file_labels, file_names = load_ftr_from_dir('Data/Sounds/yzc/')\n",
    "len(ftr_files)"
   ]
  },
  {
   "cell_type": "code",
   "execution_count": 78,
   "metadata": {},
   "outputs": [
    {
     "name": "stdout",
     "output_type": "stream",
     "text": [
      "3\n",
      "[[0. 1. 2. 3.]\n",
      " [2. 3. 4. 5.]\n",
      " [4. 5. 6. 7.]]\n",
      "[4. 6. 8.]\n",
      "\n",
      "[[ 6.  7.  8.  9.]\n",
      " [ 8.  9. 10. 11.]\n",
      " [10. 11. 12. 13.]]\n",
      "[10. 12. 14.]\n",
      "\n",
      "[[12. 13. 14. 15.]\n",
      " [14. 15. 16. 17.]\n",
      " [16. 17. 18. 19.]]\n",
      "[16. 18. 20.]\n",
      "\n"
     ]
    }
   ],
   "source": [
    "data = np.array([i for i in range(21)])\n",
    "targets = np.array([i for i in range(21)])\n",
    "\n",
    "data_gen = preprocessing.sequence.TimeseriesGenerator(data, targets, sampling_rate=1, length=4, stride=2, batch_size=3)\n",
    "print(len(data_gen))\n",
    "for x, y in data_gen:\n",
    "    print(x)\n",
    "    print(y)\n",
    "    print()"
   ]
  },
  {
   "cell_type": "code",
   "execution_count": 74,
   "metadata": {},
   "outputs": [
    {
     "name": "stdout",
     "output_type": "stream",
     "text": [
      "(40, 966)\n"
     ]
    }
   ],
   "source": [
    "show_shape(ftr_files[0])"
   ]
  },
  {
   "cell_type": "code",
   "execution_count": 102,
   "metadata": {},
   "outputs": [
    {
     "name": "stdout",
     "output_type": "stream",
     "text": [
      "(2603,)\n",
      "(2603,)\n"
     ]
    }
   ],
   "source": [
    "X_batches, y_batches = [], []\n",
    "for ftr_file, label in zip(ftr_files, file_labels):\n",
    "    ftr_file = np.rollaxis(ftr_file, 1, 0) # time dim first\n",
    "    data_gen = preprocessing.sequence.TimeseriesGenerator(\n",
    "        ftr_file, np.array([label for _ in ftr_file]), \n",
    "        start_index=50, end_index=len(ftr_file) - 50,\n",
    "        length=10, stride=5, batch_size=5)\n",
    "    for X_batch, y_batch in data_gen:\n",
    "        X_batches.append(X_batch)\n",
    "        y_batches.append(y_batch)\n",
    "show_shape(X_batches)\n",
    "show_shape(y_batches)"
   ]
  },
  {
   "cell_type": "code",
   "execution_count": null,
   "metadata": {},
   "outputs": [],
   "source": []
  }
 ],
 "metadata": {
  "kernelspec": {
   "display_name": "Python 3",
   "language": "python",
   "name": "python3"
  },
  "language_info": {
   "codemirror_mode": {
    "name": "ipython",
    "version": 3
   },
   "file_extension": ".py",
   "mimetype": "text/x-python",
   "name": "python",
   "nbconvert_exporter": "python",
   "pygments_lexer": "ipython3",
   "version": "3.6.8"
  }
 },
 "nbformat": 4,
 "nbformat_minor": 2
}
